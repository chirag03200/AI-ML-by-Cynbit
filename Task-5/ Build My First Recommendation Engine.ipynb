{
 "cells": [
  {
   "cell_type": "markdown",
   "id": "ac6ffff9-7841-4d3e-942d-56442583121a",
   "metadata": {},
   "source": [
    "## Build My First Recommendation Engine"
   ]
  },
  {
   "cell_type": "code",
   "execution_count": 1,
   "id": "920a556b-645c-41e5-9204-83c1f799018b",
   "metadata": {},
   "outputs": [],
   "source": [
    "import pandas as pd\n",
    "from sklearn.feature_extraction.text import TfidfVectorizer\n",
    "from sklearn.metrics.pairwise import cosine_similarity"
   ]
  },
  {
   "cell_type": "markdown",
   "id": "09482c6b-e4fa-49e2-ada7-3027b4f875e9",
   "metadata": {},
   "source": [
    "## Explanation :- This dataset contains 10 students and their areas of interest. These keywords will help us calculate similarity"
   ]
  },
  {
   "cell_type": "code",
   "execution_count": 31,
   "id": "fb105703-a299-48fb-accd-3ca39a7c3575",
   "metadata": {},
   "outputs": [
    {
     "data": {
      "text/html": [
       "<div>\n",
       "<style scoped>\n",
       "    .dataframe tbody tr th:only-of-type {\n",
       "        vertical-align: middle;\n",
       "    }\n",
       "\n",
       "    .dataframe tbody tr th {\n",
       "        vertical-align: top;\n",
       "    }\n",
       "\n",
       "    .dataframe thead th {\n",
       "        text-align: right;\n",
       "    }\n",
       "</style>\n",
       "<table border=\"1\" class=\"dataframe\">\n",
       "  <thead>\n",
       "    <tr style=\"text-align: right;\">\n",
       "      <th></th>\n",
       "      <th>Student</th>\n",
       "      <th>Interests</th>\n",
       "    </tr>\n",
       "  </thead>\n",
       "  <tbody>\n",
       "    <tr>\n",
       "      <th>0</th>\n",
       "      <td>Amit</td>\n",
       "      <td>Machine Learning, Python, AI</td>\n",
       "    </tr>\n",
       "    <tr>\n",
       "      <th>1</th>\n",
       "      <td>Sneha</td>\n",
       "      <td>Web Development, HTML, CSS, JavaScript</td>\n",
       "    </tr>\n",
       "    <tr>\n",
       "      <th>2</th>\n",
       "      <td>Ravi</td>\n",
       "      <td>Blockchain, Cryptocurrency, Security</td>\n",
       "    </tr>\n",
       "    <tr>\n",
       "      <th>3</th>\n",
       "      <td>Priya</td>\n",
       "      <td>Data Science, Python, Statistics</td>\n",
       "    </tr>\n",
       "    <tr>\n",
       "      <th>4</th>\n",
       "      <td>Vikram</td>\n",
       "      <td>Mobile App Development, Android, Kotlin</td>\n",
       "    </tr>\n",
       "    <tr>\n",
       "      <th>5</th>\n",
       "      <td>Meena</td>\n",
       "      <td>Cybersecurity, Networking, Ethical Hacking</td>\n",
       "    </tr>\n",
       "    <tr>\n",
       "      <th>6</th>\n",
       "      <td>Kunal</td>\n",
       "      <td>Deep Learning, AI, Neural Networks</td>\n",
       "    </tr>\n",
       "    <tr>\n",
       "      <th>7</th>\n",
       "      <td>Sara</td>\n",
       "      <td>Frontend, ReactJS, CSS, HTML</td>\n",
       "    </tr>\n",
       "    <tr>\n",
       "      <th>8</th>\n",
       "      <td>Neha</td>\n",
       "      <td>Cloud Computing, AWS, DevOps</td>\n",
       "    </tr>\n",
       "    <tr>\n",
       "      <th>9</th>\n",
       "      <td>Anuj</td>\n",
       "      <td>Backend Development, NodeJS, MongoDB</td>\n",
       "    </tr>\n",
       "  </tbody>\n",
       "</table>\n",
       "</div>"
      ],
      "text/plain": [
       "  Student                                   Interests\n",
       "0    Amit                Machine Learning, Python, AI\n",
       "1   Sneha      Web Development, HTML, CSS, JavaScript\n",
       "2    Ravi        Blockchain, Cryptocurrency, Security\n",
       "3   Priya            Data Science, Python, Statistics\n",
       "4  Vikram     Mobile App Development, Android, Kotlin\n",
       "5   Meena  Cybersecurity, Networking, Ethical Hacking\n",
       "6   Kunal          Deep Learning, AI, Neural Networks\n",
       "7    Sara                Frontend, ReactJS, CSS, HTML\n",
       "8    Neha                Cloud Computing, AWS, DevOps\n",
       "9    Anuj        Backend Development, NodeJS, MongoDB"
      ]
     },
     "execution_count": 31,
     "metadata": {},
     "output_type": "execute_result"
    }
   ],
   "source": [
    " # Create a dataset of students with their interests\n",
    "data = {\n",
    "    'Student': [\n",
    "        'Amit', 'Sneha', 'Ravi', 'Priya', 'Vikram', \n",
    "        'Meena', 'Kunal', 'Sara', 'Neha', 'Anuj'\n",
    "    ],\n",
    "    'Interests': [\n",
    "        'Machine Learning, Python, AI',\n",
    "        'Web Development, HTML, CSS, JavaScript',\n",
    "        'Blockchain, Cryptocurrency, Security',\n",
    "        'Data Science, Python, Statistics',\n",
    "        'Mobile App Development, Android, Kotlin',\n",
    "        'Cybersecurity, Networking, Ethical Hacking',\n",
    "        'Deep Learning, AI, Neural Networks',\n",
    "        'Frontend, ReactJS, CSS, HTML',\n",
    "        'Cloud Computing, AWS, DevOps',\n",
    "        'Backend Development, NodeJS, MongoDB'\n",
    "    ]\n",
    "}\n",
    "\n",
    "df = pd.DataFrame(data)\n",
    "df"
   ]
  },
  {
   "cell_type": "markdown",
   "id": "4e57bd3e-e650-4141-9ed5-064bfd738396",
   "metadata": {},
   "source": [
    " ## TF-IDF Vectorization :- it's convert text into numerical form."
   ]
  },
  {
   "cell_type": "code",
   "execution_count": 32,
   "id": "0b61336f-93fd-4747-bf0f-0e8f194db923",
   "metadata": {},
   "outputs": [
    {
     "name": "stdout",
     "output_type": "stream",
     "text": [
      "TF-IDF Matrix Shape: (10, 35)\n"
     ]
    }
   ],
   "source": [
    " # Initialize the TF-IDF Vectorizer\n",
    "vectorizer = TfidfVectorizer()\n",
    "\n",
    "# Transform the interests into TF-IDF matrix\n",
    "tfidf_matrix = vectorizer.fit_transform(df['Interests'])\n",
    "\n",
    "# Show the matrix shape\n",
    "print(\"TF-IDF Matrix Shape:\", tfidf_matrix.shape) ## 35 will be number of unique words"
   ]
  },
  {
   "cell_type": "code",
   "execution_count": 61,
   "id": "ce3d8123-8ca1-49e4-926a-b3d4414d2f2d",
   "metadata": {},
   "outputs": [
    {
     "data": {
      "text/plain": [
       "<Compressed Sparse Row sparse matrix of dtype 'float64'\n",
       "\twith 4 stored elements and shape (1, 35)>"
      ]
     },
     "execution_count": 61,
     "metadata": {},
     "output_type": "execute_result"
    }
   ],
   "source": [
    " # Example input interest\n",
    "user_input = \"Python,Machine Learning,Deep Learning\"\n",
    "\n",
    "# Transform the input into TF-IDF vector\n",
    "user_tfidf = vectorizer.transform([user_input])\n",
    "user_tfidf"
   ]
  },
  {
   "cell_type": "markdown",
   "id": "360c895b-be3d-4ae0-bd55-f42247a683e2",
   "metadata": {},
   "source": [
    "## Cosine similarity gives a score between 0 and 1(heigher means more smiliar)"
   ]
  },
  {
   "cell_type": "code",
   "execution_count": 62,
   "id": "251d526e-123d-4f47-9390-93955a368e23",
   "metadata": {},
   "outputs": [
    {
     "data": {
      "text/plain": [
       "array([[0.75124576, 0.        , 0.        , 0.15808715, 0.        ,\n",
       "        0.        , 0.48952487, 0.        , 0.        , 0.        ]])"
      ]
     },
     "execution_count": 62,
     "metadata": {},
     "output_type": "execute_result"
    }
   ],
   "source": [
    " # Compute cosine similarity between input and dataset\n",
    "similarity_scores = cosine_similarity(user_tfidf, tfidf_matrix)\n",
    "\n",
    "# Show similarity scores\n",
    "similarity_scores"
   ]
  },
  {
   "cell_type": "markdown",
   "id": "92264515-d0a5-416f-8656-f0a8d453a743",
   "metadata": {},
   "source": [
    "## We get the top 3 students with the most simliar interest,based in the cosine score"
   ]
  },
  {
   "cell_type": "code",
   "execution_count": 63,
   "id": "23da8ef7-4688-4f55-b252-449944af1fff",
   "metadata": {},
   "outputs": [
    {
     "name": "stdout",
     "output_type": "stream",
     "text": [
      "Top indices: [0 6 3]\n",
      "Top 3 Recommended Students/Courses:\n",
      "Amit ➤ Interests: Machine Learning, Python, AI (Score:0.7512457562087003)\n",
      "Kunal ➤ Interests: Deep Learning, AI, Neural Networks (Score:0.4895248674965103)\n",
      "Priya ➤ Interests: Data Science, Python, Statistics (Score:0.15808714974561422)\n"
     ]
    }
   ],
   "source": [
    "# Get scores in descending order\n",
    "top_indices = similarity_scores[0].argsort()[::-1][:3] \n",
    "print(\"Top indices:\", top_indices)\n",
    "\n",
    "# Display top 3 recommendations\n",
    "print(\"Top 3 Recommended Students/Courses:\")\n",
    "for i in top_indices:\n",
    "    score = similarity_scores[0][i]\n",
    "    print(f\"{df.iloc[i]['Student']} ➤ Interests: {df.iloc[i]['Interests']} (Score:{score})\") ## df.iloc[i] gives the ith row form the df"
   ]
  },
  {
   "cell_type": "markdown",
   "id": "09c92a87-2b64-45eb-aecb-9d6628e67278",
   "metadata": {},
   "source": [
    "## By manual matching"
   ]
  },
  {
   "cell_type": "code",
   "execution_count": 64,
   "id": "5184c560-f194-4896-a248-b54cb814248b",
   "metadata": {},
   "outputs": [
    {
     "name": "stdout",
     "output_type": "stream",
     "text": [
      "User Keywords: {'deep learning', 'machine learning', 'python'}\n"
     ]
    }
   ],
   "source": [
    "# Convert user input into a set of keywords\n",
    "user_keywords = set([word.strip().lower() for word in user_input.split(',')])\n",
    "print(\"User Keywords:\", user_keywords)"
   ]
  },
  {
   "cell_type": "code",
   "execution_count": 66,
   "id": "9d7cafe9-1786-4e0d-acf2-ed6ade0abdff",
   "metadata": {},
   "outputs": [],
   "source": [
    "# Create a new column for match score\n",
    "def calculate_match_score(row):\n",
    "    interests = set([word.strip().lower() for word in row.split(',')])\n",
    "    return len(user_keywords & interests)  # Intersection count\n",
    "\n",
    "# Apply score to each row\n",
    "df['Match_Score'] = df['Interests'].apply(calculate_match_score)"
   ]
  },
  {
   "cell_type": "code",
   "execution_count": 71,
   "id": "8e95a7e1-6273-4068-9033-960bfce54784",
   "metadata": {},
   "outputs": [
    {
     "name": "stdout",
     "output_type": "stream",
     "text": [
      "Top 3 Recommended Students/Courses  (Manual Matching):\n",
      "Student                          Interests  Match_Score\n",
      "   Amit       Machine Learning, Python, AI            2\n",
      "  Priya   Data Science, Python, Statistics            1\n",
      "  Kunal Deep Learning, AI, Neural Networks            1\n"
     ]
    }
   ],
   "source": [
    "# Sort by match score descending\n",
    "df_sorted = df.sort_values(by='Match_Score', ascending=False)\n",
    "\n",
    "# Show top 3 recommendations\n",
    "print(\"Top 3 Recommended Students/Courses  (Manual Matching):\")\n",
    "print(df_sorted[['Student', 'Interests', 'Match_Score']].head(3).to_string(index=False))"
   ]
  }
 ],
 "metadata": {
  "kernelspec": {
   "display_name": "Python 3 (ipykernel)",
   "language": "python",
   "name": "python3"
  },
  "language_info": {
   "codemirror_mode": {
    "name": "ipython",
    "version": 3
   },
   "file_extension": ".py",
   "mimetype": "text/x-python",
   "name": "python",
   "nbconvert_exporter": "python",
   "pygments_lexer": "ipython3",
   "version": "3.13.5"
  }
 },
 "nbformat": 4,
 "nbformat_minor": 5
}
