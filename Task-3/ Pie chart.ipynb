{
 "cells": [
  {
   "cell_type": "markdown",
   "id": "7c30f1dc-613b-4826-a23b-d210b6a8c554",
   "metadata": {},
   "source": [
    "## Pie Chart"
   ]
  },
  {
   "cell_type": "code",
   "execution_count": 1,
   "id": "037f75c3-ddd2-42f5-a229-ba10e8d21e4e",
   "metadata": {},
   "outputs": [],
   "source": [
    "import matplotlib.pyplot as plt\n",
    "%matplotlib inline"
   ]
  },
  {
   "cell_type": "code",
   "execution_count": 2,
   "id": "33b5e20b-149b-4f43-bbc7-f6bb1370217c",
   "metadata": {},
   "outputs": [],
   "source": [
    "import seaborn as sns"
   ]
  },
  {
   "cell_type": "code",
   "execution_count": 3,
   "id": "5a541c3d-709e-4c40-9da7-5d2fb248fc66",
   "metadata": {},
   "outputs": [],
   "source": [
    "import pandas as pd"
   ]
  },
  {
   "cell_type": "code",
   "execution_count": 4,
   "id": "bf25eb58-8773-4f6a-a27c-f51d030a65e5",
   "metadata": {},
   "outputs": [
    {
     "name": "stdin",
     "output_type": "stream",
     "text": [
      "Number of students:  3\n",
      "Name : Avani\n"
     ]
    },
    {
     "name": "stdout",
     "output_type": "stream",
     "text": [
      "\n",
      " enter the marks of student1: \n"
     ]
    },
    {
     "name": "stdin",
     "output_type": "stream",
     "text": [
      "Subject 1 marks:  87\n",
      "Subject 2 marks:  78\n",
      "Subject 3 marks:  89\n"
     ]
    },
    {
     "name": "stdout",
     "output_type": "stream",
     "text": [
      "\n",
      "\n",
      "\n",
      "Report for Avani:\n",
      "Total: 254.0, Average: 84.67, Grade: B\n"
     ]
    },
    {
     "name": "stdin",
     "output_type": "stream",
     "text": [
      "Name : Bunty\n"
     ]
    },
    {
     "name": "stdout",
     "output_type": "stream",
     "text": [
      "\n",
      " enter the marks of student2: \n"
     ]
    },
    {
     "name": "stdin",
     "output_type": "stream",
     "text": [
      "Subject 1 marks:  92\n",
      "Subject 2 marks:  97\n",
      "Subject 3 marks:  87\n"
     ]
    },
    {
     "name": "stdout",
     "output_type": "stream",
     "text": [
      "\n",
      "\n",
      "\n",
      "Report for Bunty:\n",
      "Total: 276.0, Average: 92.00, Grade: A\n"
     ]
    },
    {
     "name": "stdin",
     "output_type": "stream",
     "text": [
      "Name : Chintu\n"
     ]
    },
    {
     "name": "stdout",
     "output_type": "stream",
     "text": [
      "\n",
      " enter the marks of student3: \n"
     ]
    },
    {
     "name": "stdin",
     "output_type": "stream",
     "text": [
      "Subject 1 marks:  93\n",
      "Subject 2 marks:  76\n",
      "Subject 3 marks:  67\n"
     ]
    },
    {
     "name": "stdout",
     "output_type": "stream",
     "text": [
      "\n",
      "\n",
      "\n",
      "Report for Chintu:\n",
      "Total: 236.0, Average: 78.67, Grade: B\n",
      "\n",
      "📋 Student Report Card:\n",
      "     Name  Subject 1  Subject 2  Subject 3  Total    Average Grade\n",
      "0   Avani       87.0       78.0       89.0  254.0  84.666667     B\n",
      "1   Bunty       92.0       97.0       87.0  276.0  92.000000     A\n",
      "2  Chintu       93.0       76.0       67.0  236.0  78.666667     B\n"
     ]
    }
   ],
   "source": [
    "### Function to calculate total average and grade \n",
    "def calculate_results(marks):\n",
    "   total = sum(marks)\n",
    "   average = total/len(marks)\n",
    "\n",
    "   if average >= 90:\n",
    "       grade = 'A'\n",
    "   elif average>= 75:\n",
    "       grade = 'B'\n",
    "   else:\n",
    "       grade = 'C'\n",
    "\n",
    "   return total, average, grade\n",
    "\n",
    "# input number of sturdents\n",
    "stu_num = int(input(\"Number of students: \"))\n",
    "\n",
    "data = []\n",
    "# loop for input marks\n",
    "for i in range(stu_num):\n",
    "    name = input(\"Name :\")\n",
    "    print(f\"\\n enter the marks of student{i+1}: \")\n",
    "    s1 = float(input(\"Subject 1 marks: \"))\n",
    "    s2 = float(input(\"Subject 2 marks: \"))\n",
    "    s3 = float(input(\"Subject 3 marks: \"))\n",
    "    print(\"\\n\")\n",
    "    total, avg, grade = calculate_results([s1, s2, s3])\n",
    "\n",
    "    print(f\"\\nReport for {name}:\")\n",
    "    print(f\"Total: {total}, Average: {avg:.2f}, Grade: {grade}\")\n",
    "\n",
    "    #Store the data in a pandas DataFrame\n",
    "    data.append({ \"Name\":name, \"Subject 1\": s1,\"Subject 2\": s2,\"Subject 3\": s3,\n",
    "                 \"Total\": total, \"Average\": avg, \"Grade\": grade})\n",
    "\n",
    "df = pd.DataFrame(data)\n",
    "print(\"\\n📋 Student Report Card:\")\n",
    "print(df)"
   ]
  },
  {
   "cell_type": "code",
   "execution_count": 12,
   "id": "4dbb912f-6c6c-405c-98b2-7f0f62e1ecab",
   "metadata": {},
   "outputs": [
    {
     "data": {
      "image/png": "[encoded data removed]",
      "text/plain": [
       "<Figure size 640x480 with 1 Axes>"
      ]
     },
     "metadata": {},
     "output_type": "display_data"
    }
   ],
   "source": [
    "# Count the number of students for each grade\n",
    "grade_counts = df['Grade'].value_counts()\n",
    "\n",
    "# Plotting the pie chart\n",
    "# plt.figure(figsize=(4, 4))\n",
    "plt.pie(grade_counts, labels=grade_counts.index, autopct='%1.1f%%', explode=[0.1,0], startangle=90, colors=['g','r'], shadow=True)\n",
    "plt.title(\"Grade Distribution\")\n",
    "plt.axis('equal')  # Ensures pie is drawn as a circle\n",
    "plt.show()\n"
   ]
  },
  {
   "cell_type": "markdown",
   "id": "ab3fccc1-0e14-486e-8b99-17383ee1e7d1",
   "metadata": {},
   "source": [
    "## Explanation of term used\n",
    "\n",
    "\n",
    ".value_counts() →  counts how many students got each grade.\n",
    "\n",
    "plt.figure(figsize=(4, 4)) → figure size will be 4,4\n",
    "\n",
    ".sort_index() → Sorts the classes in order (1, 2, 3).\n",
    "\n",
    "explode=[0.1,0] → It's means the gap between the graphs will be\n",
    "\n",
    ".plt.pie(...) → creates a pie chart with percentage labels.\n",
    "\n",
    "Inside .plt.pie(...):\n",
    "\n",
    "autopct='%1.1f%%' → Shows percentages on each pie slice (like 22.5%).\n",
    "\n",
    "startangle=90 → Rotates the pie to start at 90 degrees.\n",
    "\n",
    "colors=['g', 'r'] → green and red colour\n",
    "\n",
    "plt.axis('equal')  →keeps the pie circular.\n",
    "\n",
    "shadow=True → Adds a shadow for a 3D look."
   ]
  }
 ],
 "metadata": {
  "kernelspec": {
   "display_name": "Python 3 (ipykernel)",
   "language": "python",
   "name": "python3"
  },
  "language_info": {
   "codemirror_mode": {
    "name": "ipython",
    "version": 3
   },
   "file_extension": ".py",
   "mimetype": "text/x-python",
   "name": "python",
   "nbconvert_exporter": "python",
   "pygments_lexer": "ipython3",
   "version": "3.13.5"
  }
 },
 "nbformat": 4,
 "nbformat_minor": 5
}
