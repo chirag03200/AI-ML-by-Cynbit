{
 "cells": [
  {
   "cell_type": "code",
   "execution_count": 1,
   "id": "1a934029-c80b-41fe-a860-55621b82e359",
   "metadata": {},
   "outputs": [],
   "source": [
    "import pandas as pd"
   ]
  },
  {
   "cell_type": "markdown",
   "id": "81723157-80dd-4596-87e8-0ec8d0483793",
   "metadata": {},
   "source": [
    "## Student Report Card Generator"
   ]
  },
  {
   "cell_type": "code",
   "execution_count": 5,
   "id": "59933393-0017-4480-95de-644b93f73718",
   "metadata": {},
   "outputs": [
    {
     "name": "stdin",
     "output_type": "stream",
     "text": [
      "Number of students:  5\n",
      "Name : CHIRAG\n"
     ]
    },
    {
     "name": "stdout",
     "output_type": "stream",
     "text": [
      "\n",
      " enter the marks of student1: \n"
     ]
    },
    {
     "name": "stdin",
     "output_type": "stream",
     "text": [
      "Subject 1 marks:  98\n",
      "Subject 2 marks:  87\n",
      "Subject 3 marks:  92\n"
     ]
    },
    {
     "name": "stdout",
     "output_type": "stream",
     "text": [
      "\n",
      "\n",
      "\n",
      "Report for CHIRAG:\n",
      "Total: 277.0, Average: 92.33, Grade: A\n"
     ]
    },
    {
     "name": "stdin",
     "output_type": "stream",
     "text": [
      "Name : Akshita\n"
     ]
    },
    {
     "name": "stdout",
     "output_type": "stream",
     "text": [
      "\n",
      " enter the marks of student2: \n"
     ]
    },
    {
     "name": "stdin",
     "output_type": "stream",
     "text": [
      "Subject 1 marks:  93\n",
      "Subject 2 marks:  87\n",
      "Subject 3 marks:  78\n"
     ]
    },
    {
     "name": "stdout",
     "output_type": "stream",
     "text": [
      "\n",
      "\n",
      "\n",
      "Report for Akshita:\n",
      "Total: 258.0, Average: 86.00, Grade: B\n"
     ]
    },
    {
     "name": "stdin",
     "output_type": "stream",
     "text": [
      "Name : Avani\n"
     ]
    },
    {
     "name": "stdout",
     "output_type": "stream",
     "text": [
      "\n",
      " enter the marks of student3: \n"
     ]
    },
    {
     "name": "stdin",
     "output_type": "stream",
     "text": [
      "Subject 1 marks:  83\n",
      "Subject 2 marks:  78\n",
      "Subject 3 marks:  76\n"
     ]
    },
    {
     "name": "stdout",
     "output_type": "stream",
     "text": [
      "\n",
      "\n",
      "\n",
      "Report for Avani:\n",
      "Total: 237.0, Average: 79.00, Grade: B\n"
     ]
    },
    {
     "name": "stdin",
     "output_type": "stream",
     "text": [
      "Name : Akhil\n"
     ]
    },
    {
     "name": "stdout",
     "output_type": "stream",
     "text": [
      "\n",
      " enter the marks of student4: \n"
     ]
    },
    {
     "name": "stdin",
     "output_type": "stream",
     "text": [
      "Subject 1 marks:  89\n",
      "Subject 2 marks:  87\n",
      "Subject 3 marks:  88\n"
     ]
    },
    {
     "name": "stdout",
     "output_type": "stream",
     "text": [
      "\n",
      "\n",
      "\n",
      "Report for Akhil:\n",
      "Total: 264.0, Average: 88.00, Grade: B\n"
     ]
    },
    {
     "name": "stdin",
     "output_type": "stream",
     "text": [
      "Name : Rahul\n"
     ]
    },
    {
     "name": "stdout",
     "output_type": "stream",
     "text": [
      "\n",
      " enter the marks of student5: \n"
     ]
    },
    {
     "name": "stdin",
     "output_type": "stream",
     "text": [
      "Subject 1 marks:  76\n",
      "Subject 2 marks:  65\n",
      "Subject 3 marks:  56\n"
     ]
    },
    {
     "name": "stdout",
     "output_type": "stream",
     "text": [
      "\n",
      "\n",
      "\n",
      "Report for Rahul:\n",
      "Total: 197.0, Average: 65.67, Grade: C\n",
      "\n",
      "📋 Student Report Card:\n",
      "      Name  Subject 1  Subject 2  Subject 3  Total    Average Grade\n",
      "0   CHIRAG       98.0       87.0       92.0  277.0  92.333333     A\n",
      "1  Akshita       93.0       87.0       78.0  258.0  86.000000     B\n",
      "2    Avani       83.0       78.0       76.0  237.0  79.000000     B\n",
      "3    Akhil       89.0       87.0       88.0  264.0  88.000000     B\n",
      "4    Rahul       76.0       65.0       56.0  197.0  65.666667     C\n"
     ]
    }
   ],
   "source": [
    "### Function to calculate total average and grade \n",
    "def calculate_results(marks):\n",
    "   total = sum(marks)\n",
    "   average = total/len(marks)\n",
    "\n",
    "   if average >= 90:\n",
    "       grade = 'A'\n",
    "   elif average>= 75:\n",
    "       grade = 'B'\n",
    "   else:\n",
    "       grade = 'C'\n",
    "\n",
    "   return total, average, grade\n",
    "\n",
    "# input number of sturdents\n",
    "stu_num = int(input(\"Number of students: \"))\n",
    "\n",
    "data = []\n",
    "# loop for input marks\n",
    "for i in range(stu_num):\n",
    "    name = input(\"Name :\")\n",
    "    print(f\"\\n enter the marks of student{i+1}: \")\n",
    "    s1 = float(input(\"Subject 1 marks: \"))\n",
    "    s2 = float(input(\"Subject 2 marks: \"))\n",
    "    s3 = float(input(\"Subject 3 marks: \"))\n",
    "    print(\"\\n\")\n",
    "    total, avg, grade = calculate_results([s1, s2, s3])\n",
    "\n",
    "    print(f\"\\nReport for {name}:\")\n",
    "    print(f\"Total: {total}, Average: {avg:.2f}, Grade: {grade}\")\n",
    "\n",
    "    #Store the data in a pandas DataFrame\n",
    "    data.append({ \"Name\":name, \"Subject 1\": s1,\"Subject 2\": s2,\"Subject 3\": s3,\n",
    "                 \"Total\": total, \"Average\": avg, \"Grade\": grade})\n",
    "\n",
    "df = pd.DataFrame(data)\n",
    "print(\"\\n📋 Student Report Card:\")\n",
    "print(df)"
   ]
  },
  {
   "cell_type": "code",
   "execution_count": 6,
   "id": "77dec518-1588-4e9a-9660-48825ac32474",
   "metadata": {},
   "outputs": [
    {
     "name": "stdout",
     "output_type": "stream",
     "text": [
      "\n",
      "📊 Class Summary:\n",
      "Total Students: 5\n",
      "Class Average Score: 82.20\n",
      "Grade Distribution:\n",
      "Grade\n",
      "B    3\n",
      "A    1\n",
      "C    1\n",
      "Name: count, dtype: int64\n"
     ]
    }
   ],
   "source": [
    "total_students = len(df)\n",
    "class_avg = df['Average'].mean()\n",
    "grade_counts = df['Grade'].value_counts()\n",
    "\n",
    "print(\"\\n📊 Class Summary:\")\n",
    "print(f\"Total Students: {total_students}\")\n",
    "print(f\"Class Average Score: {class_avg:.2f}\")\n",
    "print(\"Grade Distribution:\")\n",
    "print(grade_counts)\n",
    "\n",
    "# Save to CSV\n",
    "df.to_csv(\"student_report_card.csv\")"
   ]
  },
  {
   "cell_type": "markdown",
   "id": "98c1dab9-4fb0-46f7-88e0-2341eb2744ba",
   "metadata": {},
   "source": [
    "## Grade distribution using a bar chart with matplotlib"
   ]
  },
  {
   "cell_type": "code",
   "execution_count": 7,
   "id": "f536e65b-7c2a-44ac-8fe1-59669dc8cfde",
   "metadata": {},
   "outputs": [
    {
     "data": {
      "image/png": "[encoded data removed]",
      "text/plain": [
       "<Figure size 640x480 with 1 Axes>"
      ]
     },
     "metadata": {},
     "output_type": "display_data"
    }
   ],
   "source": [
    "import matplotlib.pyplot as plt\n",
    "\n",
    "grade_counts.plot(kind ='bar', color=['skyblue', 'orange', 'salmon'])\n",
    "plt.title(\"Grade Distribution\")\n",
    "plt.xlabel(\"Grade\")\n",
    "plt.ylabel(\"Number of Students\")\n",
    "plt.xticks(rotation=0)\n",
    "plt.show()"
   ]
  },
  {
   "cell_type": "code",
   "execution_count": null,
   "id": "2564368a-3e17-43f2-bae0-7d39666362d7",
   "metadata": {},
   "outputs": [],
   "source": []
  }
 ],
 "metadata": {
  "kernelspec": {
   "display_name": "Python 3 (ipykernel)",
   "language": "python",
   "name": "python3"
  },
  "language_info": {
   "codemirror_mode": {
    "name": "ipython",
    "version": 3
   },
   "file_extension": ".py",
   "mimetype": "text/x-python",
   "name": "python",
   "nbconvert_exporter": "python",
   "pygments_lexer": "ipython3",
   "version": "3.13.5"
  }
 },
 "nbformat": 4,
 "nbformat_minor": 5
}
